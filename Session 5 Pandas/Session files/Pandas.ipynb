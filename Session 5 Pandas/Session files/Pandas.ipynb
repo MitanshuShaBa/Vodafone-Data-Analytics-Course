{
 "cells": [
  {
   "cell_type": "markdown",
   "metadata": {},
   "source": [
    "# Numpy limitation"
   ]
  },
  {
   "cell_type": "code",
   "execution_count": 1,
   "metadata": {},
   "outputs": [
    {
     "name": "stdout",
     "output_type": "stream",
     "text": [
      "[[1 2 3]\n",
      " [4 5 6]]\n",
      "[[1.  2.  3. ]\n",
      " [4.  5.4 6.2]]\n",
      "[['1' '2' '3']\n",
      " ['4.0' '5' 'abc']]\n"
     ]
    }
   ],
   "source": [
    "import numpy as np\n",
    "# type coercion\n",
    "n1 = np.array([[1, 2, 3], [4, 5, 6]])\n",
    "print(n1)\n",
    "n2 = np.array([[1, 2, 3], [4.0, 5.4, 6.2]])\n",
    "print(n2)\n",
    "n3 = np.array([[1, 2, 3], [4.0, 5, 'abc']])\n",
    "print(n3)"
   ]
  },
  {
   "cell_type": "code",
   "execution_count": 2,
   "metadata": {},
   "outputs": [],
   "source": [
    "# dictionary "
   ]
  },
  {
   "cell_type": "markdown",
   "metadata": {},
   "source": [
    "# Series Data Structure"
   ]
  },
  {
   "cell_type": "code",
   "execution_count": 3,
   "metadata": {},
   "outputs": [],
   "source": [
    "import pandas as pd"
   ]
  },
  {
   "cell_type": "code",
   "execution_count": 4,
   "metadata": {},
   "outputs": [
    {
     "name": "stdout",
     "output_type": "stream",
     "text": [
      "0    10\n",
      "1    20\n",
      "2    30\n",
      "3    40\n",
      "4    50\n",
      "dtype: int64\n"
     ]
    }
   ],
   "source": [
    "my_data=[10,20,30,40,50]\n",
    "# s1 = pd.Series(data=my_data,index=['a', 'b', 'c', 'd', 'e'])\n",
    "s1 = pd.Series(data=my_data)\n",
    "print(s1)"
   ]
  },
  {
   "cell_type": "code",
   "execution_count": 5,
   "metadata": {},
   "outputs": [
    {
     "name": "stdout",
     "output_type": "stream",
     "text": [
      "w    10\n",
      "x    20\n",
      "y    30\n",
      "z    40\n",
      "dtype: int64\n"
     ]
    }
   ],
   "source": [
    "import pandas as pd\n",
    "d={'w':10,'x':20,'y':30,'z':40}      \n",
    "#dictionary keys act as index and values with every key act as series values\n",
    "s2 = pd.Series(d)\n",
    "print(s2)"
   ]
  },
  {
   "cell_type": "code",
   "execution_count": 6,
   "metadata": {},
   "outputs": [
    {
     "data": {
      "text/plain": [
       "India          2\n",
       "Srilanka       4\n",
       "Bangladesh     8\n",
       "Russia        13\n",
       "dtype: int64"
      ]
     },
     "execution_count": 6,
     "metadata": {},
     "output_type": "execute_result"
    }
   ],
   "source": [
    "# Addition of two series\n",
    "# import pandas as pd\n",
    "ser1=pd.Series([1,2,3,4],['India','Srilanka', 'Bangladesh', 'Russia'])   \n",
    "\n",
    "ser2=pd.Series([1,2,5,9],['India','Srilanka', 'Bangladesh', 'Russia'])\n",
    "\n",
    "# ser2=pd.Series([1,2,5,9],['India', 'Srilanka','Bangladesh', 'Bhutan'])\n",
    "ser1+ser2"
   ]
  },
  {
   "cell_type": "markdown",
   "metadata": {},
   "source": [
    "# DataFrame Data Structure"
   ]
  },
  {
   "cell_type": "code",
   "execution_count": 8,
   "metadata": {},
   "outputs": [],
   "source": [
    "# print(pd.DataFrame.__doc__)"
   ]
  },
  {
   "cell_type": "code",
   "execution_count": 9,
   "metadata": {},
   "outputs": [
    {
     "name": "stdout",
     "output_type": "stream",
     "text": [
      "          W         X         Y         Z\n",
      "A  1.331587  0.715279 -1.545400 -0.008384\n",
      "B  0.621336 -0.720086  0.265512  0.108549\n",
      "C  0.004291 -0.174600  0.433026  1.203037\n",
      "D -0.965066  1.028274  0.228630  0.445138\n",
      "E -1.136602  0.135137  1.484537 -1.079805\n",
      "A    1.331587\n",
      "B    0.621336\n",
      "C    0.004291\n",
      "D   -0.965066\n",
      "E   -1.136602\n",
      "Name: W, dtype: float64\n",
      "          W         Z\n",
      "A  1.331587 -0.008384\n",
      "B  0.621336  0.108549\n",
      "C  0.004291  1.203037\n",
      "D -0.965066  0.445138\n",
      "E -1.136602 -1.079805\n"
     ]
    }
   ],
   "source": [
    "# Create Dataframe & Select columns\n",
    "from numpy.random import randn\n",
    "import pandas as pd\n",
    "np.random.seed(10)\n",
    "df1=pd.DataFrame(randn(5,4),['A','B','C','D','E'],['W','X','Y','Z'])  \n",
    "# df1\n",
    "#generate random number for 5 rows and 4 columns\n",
    "print(df1)\n",
    "print(df1['W'])\n",
    "print(df1[['W','Z']])"
   ]
  },
  {
   "cell_type": "code",
   "execution_count": null,
   "metadata": {},
   "outputs": [],
   "source": []
  },
  {
   "cell_type": "markdown",
   "metadata": {},
   "source": [
    "## Data Manipulation: Data selection"
   ]
  },
  {
   "cell_type": "code",
   "execution_count": 10,
   "metadata": {},
   "outputs": [
    {
     "name": "stdout",
     "output_type": "stream",
     "text": [
      "          W         X         Y         Z\n",
      "A  1.331587  0.715279 -1.545400 -0.008384\n",
      "B  0.621336 -0.720086  0.265512  0.108549\n",
      "C  0.004291 -0.174600  0.433026  1.203037\n",
      "D -0.965066  1.028274  0.228630  0.445138\n",
      "E -1.136602  0.135137  1.484537 -1.079805\n",
      "W    1.331587\n",
      "X    0.715279\n",
      "Y   -1.545400\n",
      "Z   -0.008384\n",
      "Name: A, dtype: float64\n",
      "W   -0.965066\n",
      "X    1.028274\n",
      "Y    0.228630\n",
      "Z    0.445138\n",
      "Name: D, dtype: float64\n",
      "          X         Z\n",
      "A  0.715279 -0.008384\n",
      "C -0.174600  1.203037\n"
     ]
    }
   ],
   "source": [
    "# DataFrame.loc() will select rows by index values\n",
    "# DataFrame.iloc() will select rows by rows numbers\n",
    "print(df1)\n",
    "print(df1.loc['A']) # fetch particular row from dataset having index ‘A’\n",
    "print(df1.iloc[3]) # fetch 3rd row from dataset\n",
    "print(df1.loc[['A','C'],['X','Z']]) # fetch a subset of data from given dataset"
   ]
  },
  {
   "cell_type": "code",
   "execution_count": 11,
   "metadata": {},
   "outputs": [
    {
     "name": "stdout",
     "output_type": "stream",
     "text": [
      "          W         X         Y         Z\n",
      "A  1.331587  0.715279 -1.545400 -0.008384\n",
      "B  0.621336 -0.720086  0.265512  0.108549\n",
      "C  0.004291 -0.174600  0.433026  1.203037\n",
      "D -0.965066  1.028274  0.228630  0.445138\n",
      "E -1.136602  0.135137  1.484537 -1.079805\n"
     ]
    }
   ],
   "source": [
    "print(df1)"
   ]
  },
  {
   "cell_type": "code",
   "execution_count": 12,
   "metadata": {},
   "outputs": [
    {
     "data": {
      "text/html": [
       "<div>\n",
       "<style scoped>\n",
       "    .dataframe tbody tr th:only-of-type {\n",
       "        vertical-align: middle;\n",
       "    }\n",
       "\n",
       "    .dataframe tbody tr th {\n",
       "        vertical-align: top;\n",
       "    }\n",
       "\n",
       "    .dataframe thead th {\n",
       "        text-align: right;\n",
       "    }\n",
       "</style>\n",
       "<table border=\"1\" class=\"dataframe\">\n",
       "  <thead>\n",
       "    <tr style=\"text-align: right;\">\n",
       "      <th></th>\n",
       "      <th>W</th>\n",
       "      <th>X</th>\n",
       "      <th>Y</th>\n",
       "      <th>Z</th>\n",
       "    </tr>\n",
       "  </thead>\n",
       "  <tbody>\n",
       "    <tr>\n",
       "      <th>B</th>\n",
       "      <td>0.621336</td>\n",
       "      <td>-0.720086</td>\n",
       "      <td>0.265512</td>\n",
       "      <td>0.108549</td>\n",
       "    </tr>\n",
       "    <tr>\n",
       "      <th>C</th>\n",
       "      <td>0.004291</td>\n",
       "      <td>-0.174600</td>\n",
       "      <td>0.433026</td>\n",
       "      <td>1.203037</td>\n",
       "    </tr>\n",
       "    <tr>\n",
       "      <th>D</th>\n",
       "      <td>-0.965066</td>\n",
       "      <td>1.028274</td>\n",
       "      <td>0.228630</td>\n",
       "      <td>0.445138</td>\n",
       "    </tr>\n",
       "    <tr>\n",
       "      <th>E</th>\n",
       "      <td>-1.136602</td>\n",
       "      <td>0.135137</td>\n",
       "      <td>1.484537</td>\n",
       "      <td>-1.079805</td>\n",
       "    </tr>\n",
       "  </tbody>\n",
       "</table>\n",
       "</div>"
      ],
      "text/plain": [
       "          W         X         Y         Z\n",
       "B  0.621336 -0.720086  0.265512  0.108549\n",
       "C  0.004291 -0.174600  0.433026  1.203037\n",
       "D -0.965066  1.028274  0.228630  0.445138\n",
       "E -1.136602  0.135137  1.484537 -1.079805"
      ]
     },
     "execution_count": 12,
     "metadata": {},
     "output_type": "execute_result"
    }
   ],
   "source": [
    "df1.drop('A',axis=0,inplace=False)\n",
    "# df1.drop('W',axis=1,inplace=False)\n",
    "# df1.drop('W',axis=1,inplace=True)"
   ]
  },
  {
   "cell_type": "code",
   "execution_count": 13,
   "metadata": {},
   "outputs": [
    {
     "name": "stdout",
     "output_type": "stream",
     "text": [
      "          W         X         Y         Z\n",
      "A  1.331587  0.715279 -1.545400 -0.008384\n",
      "B  0.621336 -0.720086  0.265512  0.108549\n",
      "C  0.004291 -0.174600  0.433026  1.203037\n",
      "D -0.965066  1.028274  0.228630  0.445138\n",
      "E -1.136602  0.135137  1.484537 -1.079805\n"
     ]
    }
   ],
   "source": [
    "print(df1)"
   ]
  },
  {
   "cell_type": "code",
   "execution_count": 14,
   "metadata": {},
   "outputs": [
    {
     "name": "stdout",
     "output_type": "stream",
     "text": [
      "          W         X         Y         Z\n",
      "A  2.706850  0.628133  0.907969  0.503826\n",
      "B  0.651118 -0.319318 -0.848077  0.605965\n",
      "C -2.018168  0.740122  0.528813 -0.589001\n",
      "D  0.188695 -0.758872 -0.933237  0.955057\n",
      "E  0.190794  1.978757  2.605967  0.683509\n"
     ]
    }
   ],
   "source": [
    "from numpy.random import randn\n",
    "import pandas as pd\n",
    "np.random.seed(101)\n",
    "df2=pd.DataFrame(randn(5,4),['A','B','C','D','E'],['W','X','Y','Z'])\n",
    "print(df2)"
   ]
  },
  {
   "cell_type": "code",
   "execution_count": 15,
   "metadata": {},
   "outputs": [
    {
     "data": {
      "text/html": [
       "<div>\n",
       "<style scoped>\n",
       "    .dataframe tbody tr th:only-of-type {\n",
       "        vertical-align: middle;\n",
       "    }\n",
       "\n",
       "    .dataframe tbody tr th {\n",
       "        vertical-align: top;\n",
       "    }\n",
       "\n",
       "    .dataframe thead th {\n",
       "        text-align: right;\n",
       "    }\n",
       "</style>\n",
       "<table border=\"1\" class=\"dataframe\">\n",
       "  <thead>\n",
       "    <tr style=\"text-align: right;\">\n",
       "      <th></th>\n",
       "      <th>X</th>\n",
       "      <th>Y</th>\n",
       "    </tr>\n",
       "  </thead>\n",
       "  <tbody>\n",
       "    <tr>\n",
       "      <th>A</th>\n",
       "      <td>0.628133</td>\n",
       "      <td>0.907969</td>\n",
       "    </tr>\n",
       "    <tr>\n",
       "      <th>B</th>\n",
       "      <td>-0.319318</td>\n",
       "      <td>-0.848077</td>\n",
       "    </tr>\n",
       "    <tr>\n",
       "      <th>D</th>\n",
       "      <td>-0.758872</td>\n",
       "      <td>-0.933237</td>\n",
       "    </tr>\n",
       "    <tr>\n",
       "      <th>E</th>\n",
       "      <td>1.978757</td>\n",
       "      <td>2.605967</td>\n",
       "    </tr>\n",
       "  </tbody>\n",
       "</table>\n",
       "</div>"
      ],
      "text/plain": [
       "          X         Y\n",
       "A  0.628133  0.907969\n",
       "B -0.319318 -0.848077\n",
       "D -0.758872 -0.933237\n",
       "E  1.978757  2.605967"
      ]
     },
     "execution_count": 15,
     "metadata": {},
     "output_type": "execute_result"
    }
   ],
   "source": [
    "df2[df2['W']>0]\n",
    "df2[df2['W']>0][['X','Y']]\n",
    "# fetch out desired frame of X & Y from dataset, for those rows where value is more than 0 in ‘W’ column\n",
    "\n",
    "# df3=df2.reset_index() #assign natural index\n",
    "# df3=df2.set_index('Z') #set ‘Z’ column as index value\n",
    "# df4 = df3.reset_index()\n",
    "# df4"
   ]
  },
  {
   "cell_type": "markdown",
   "metadata": {},
   "source": [
    "### Drop missing Values"
   ]
  },
  {
   "cell_type": "code",
   "execution_count": 16,
   "metadata": {},
   "outputs": [
    {
     "name": "stdout",
     "output_type": "stream",
     "text": [
      "     A    B  C\n",
      "0  1.0  1.0  1\n",
      "1  2.0  NaN  2\n",
      "2  NaN  NaN  3\n"
     ]
    }
   ],
   "source": [
    "# import pandas as pd\n",
    "# import numpy as np\n",
    "d={'A':[1,2,np.NaN], 'B':[1,np.NaN,np.NaN],'C':[1,2,3]}     \n",
    "# np.NaN is the missing element in DataFrame\n",
    "df4=pd.DataFrame(d)\n",
    "print(df4)"
   ]
  },
  {
   "cell_type": "code",
   "execution_count": 17,
   "metadata": {},
   "outputs": [
    {
     "data": {
      "text/html": [
       "<div>\n",
       "<style scoped>\n",
       "    .dataframe tbody tr th:only-of-type {\n",
       "        vertical-align: middle;\n",
       "    }\n",
       "\n",
       "    .dataframe tbody tr th {\n",
       "        vertical-align: top;\n",
       "    }\n",
       "\n",
       "    .dataframe thead th {\n",
       "        text-align: right;\n",
       "    }\n",
       "</style>\n",
       "<table border=\"1\" class=\"dataframe\">\n",
       "  <thead>\n",
       "    <tr style=\"text-align: right;\">\n",
       "      <th></th>\n",
       "      <th>A</th>\n",
       "      <th>B</th>\n",
       "      <th>C</th>\n",
       "    </tr>\n",
       "  </thead>\n",
       "  <tbody>\n",
       "    <tr>\n",
       "      <th>0</th>\n",
       "      <td>1.0</td>\n",
       "      <td>1.0</td>\n",
       "      <td>1</td>\n",
       "    </tr>\n",
       "    <tr>\n",
       "      <th>1</th>\n",
       "      <td>2.0</td>\n",
       "      <td>NaN</td>\n",
       "      <td>2</td>\n",
       "    </tr>\n",
       "  </tbody>\n",
       "</table>\n",
       "</div>"
      ],
      "text/plain": [
       "     A    B  C\n",
       "0  1.0  1.0  1\n",
       "1  2.0  NaN  2"
      ]
     },
     "execution_count": 17,
     "metadata": {},
     "output_type": "execute_result"
    }
   ],
   "source": [
    "# df4.dropna()         #pandas would drop any row with missing value\n",
    "# df4.dropna(axis=1)   #drop column with NULL value\n",
    "df4.dropna(thresh=2) #Require <2 non-NA values to drop row."
   ]
  },
  {
   "cell_type": "markdown",
   "metadata": {},
   "source": [
    "### Groupby"
   ]
  },
  {
   "cell_type": "code",
   "execution_count": 18,
   "metadata": {},
   "outputs": [
    {
     "name": "stdout",
     "output_type": "stream",
     "text": [
      "  Company   Person  Sales\n",
      "0   CompA   Rajesh    200\n",
      "1   CompA  Pradeep    120\n",
      "2   CompB     Amit    340\n",
      "3   CompB   Rakesh    124\n",
      "4   CompC   Suresh    243\n",
      "5   CompC      Raj    350\n",
      "         Sales\n",
      "Company       \n",
      "CompA    160.0\n",
      "CompB    232.0\n",
      "CompC    296.5\n"
     ]
    }
   ],
   "source": [
    "data = {'Company': [ 'CompA', 'CompA', 'CompB', 'CompB', 'CompC', 'CompC'],\n",
    "        'Person': ['Rajesh', 'Pradeep', 'Amit', 'Rakesh', 'Suresh', 'Raj'],\n",
    "        'Sales': [200, 120, 340, 124, 243, 350]}\n",
    "df6=pd.DataFrame(data)\n",
    "print(df6)\n",
    "comp=df6.groupby(\"Company\")             #grouping done using label name “Company”\n",
    "print(comp.mean())                      #mean appliead on grouped data\n",
    "# comp_std=df6.groupby(\"Company\").std()   #grouping done + standard deviation applied”\n",
    "# comp_std   \n",
    "# df6.groupby(\"Company\").sum().loc[\"CompB\"]\n",
    "# list(comp)"
   ]
  },
  {
   "cell_type": "code",
   "execution_count": 19,
   "metadata": {},
   "outputs": [
    {
     "name": "stdout",
     "output_type": "stream",
     "text": [
      "  Company   Person  Sales\n",
      "0   CompA   Rajesh    200\n",
      "1   CompA  Pradeep    120\n",
      "2   CompB     Amit    340\n",
      "3   CompB   Rakesh    124\n",
      "4   CompC   Suresh    243\n",
      "5   CompC      Raj    350\n"
     ]
    },
    {
     "data": {
      "text/html": [
       "<div>\n",
       "<style scoped>\n",
       "    .dataframe tbody tr th:only-of-type {\n",
       "        vertical-align: middle;\n",
       "    }\n",
       "\n",
       "    .dataframe tbody tr th {\n",
       "        vertical-align: top;\n",
       "    }\n",
       "\n",
       "    .dataframe thead th {\n",
       "        text-align: right;\n",
       "    }\n",
       "</style>\n",
       "<table border=\"1\" class=\"dataframe\">\n",
       "  <thead>\n",
       "    <tr style=\"text-align: right;\">\n",
       "      <th></th>\n",
       "      <th>Person</th>\n",
       "      <th>Sales</th>\n",
       "    </tr>\n",
       "    <tr>\n",
       "      <th>Company</th>\n",
       "      <th></th>\n",
       "      <th></th>\n",
       "    </tr>\n",
       "  </thead>\n",
       "  <tbody>\n",
       "    <tr>\n",
       "      <th>CompA</th>\n",
       "      <td>Rajesh</td>\n",
       "      <td>200</td>\n",
       "    </tr>\n",
       "    <tr>\n",
       "      <th>CompB</th>\n",
       "      <td>Rakesh</td>\n",
       "      <td>340</td>\n",
       "    </tr>\n",
       "    <tr>\n",
       "      <th>CompC</th>\n",
       "      <td>Suresh</td>\n",
       "      <td>350</td>\n",
       "    </tr>\n",
       "  </tbody>\n",
       "</table>\n",
       "</div>"
      ],
      "text/plain": [
       "         Person  Sales\n",
       "Company               \n",
       "CompA    Rajesh    200\n",
       "CompB    Rakesh    340\n",
       "CompC    Suresh    350"
      ]
     },
     "execution_count": 19,
     "metadata": {},
     "output_type": "execute_result"
    }
   ],
   "source": [
    "data = {'Company': [ 'CompA', 'CompA', 'CompB', 'CompB', 'CompC', 'CompC'],\n",
    "        'Person': ['Rajesh', 'Pradeep', 'Amit', 'Rakesh', 'Suresh', 'Raj'],\n",
    "        'Sales': [200, 120, 340, 124, 243, 350]}\n",
    "df6=pd.DataFrame(data)\n",
    "print(df6)\n",
    "df6.groupby(\"Company\").max()\n",
    "#group dataset based on ‘company’ label and pick maximum value in each label"
   ]
  },
  {
   "cell_type": "markdown",
   "metadata": {},
   "source": [
    "### Finding unique value & number of occurrence from Dataframe"
   ]
  },
  {
   "cell_type": "code",
   "execution_count": 20,
   "metadata": {},
   "outputs": [
    {
     "data": {
      "text/plain": [
       "444    2\n",
       "555    1\n",
       "666    1\n",
       "Name: col2, dtype: int64"
      ]
     },
     "execution_count": 20,
     "metadata": {},
     "output_type": "execute_result"
    }
   ],
   "source": [
    "df7 = pd.DataFrame({'col1':[1,2,3,4],'col2':[444,555,666,444],'col3':['abc','def','ghi','xyz']})\n",
    "# col1, col2 & col3 are column labels, each column have their own values\n",
    "df7\n",
    "# df7['col2'].unique()#fetches the unique values available in column\n",
    "df7['col2'].value_counts()# count number of occurance of every value"
   ]
  },
  {
   "cell_type": "code",
   "execution_count": 21,
   "metadata": {},
   "outputs": [
    {
     "data": {
      "text/plain": [
       "pandas.core.series.Series"
      ]
     },
     "execution_count": 21,
     "metadata": {},
     "output_type": "execute_result"
    }
   ],
   "source": [
    "type(df7['col2'])"
   ]
  },
  {
   "cell_type": "code",
   "execution_count": 22,
   "metadata": {},
   "outputs": [
    {
     "data": {
      "text/plain": [
       "pandas.core.frame.DataFrame"
      ]
     },
     "execution_count": 22,
     "metadata": {},
     "output_type": "execute_result"
    }
   ],
   "source": [
    "type(df7[['col2']])"
   ]
  },
  {
   "cell_type": "markdown",
   "metadata": {},
   "source": [
    "## File Handling"
   ]
  },
  {
   "cell_type": "code",
   "execution_count": 23,
   "metadata": {},
   "outputs": [
    {
     "name": "stdout",
     "output_type": "stream",
     "text": [
      "   C1  C2  C3\n",
      "0   1   4   7\n",
      "1   2   5   8\n",
      "2   3   6   9\n"
     ]
    }
   ],
   "source": [
    "# csv\n",
    "# df1 = pd.read_csv('Data/covid_19_india.csv')\n",
    "\n",
    "df2 = pd.DataFrame({'C1' : [1, 2, 3], 'C2' : [4, 5, 6], 'C3' : [7, 8, 9]})\n",
    "print(df2)\n",
    "df2.to_csv('Data/new.csv')"
   ]
  },
  {
   "cell_type": "code",
   "execution_count": null,
   "metadata": {},
   "outputs": [],
   "source": [
    "# df1"
   ]
  },
  {
   "cell_type": "code",
   "execution_count": 28,
   "metadata": {},
   "outputs": [],
   "source": [
    "df3 = pd.read_excel('Data/Demo.xlsx',sheet_name='Sheet1')\n",
    "df4 = pd.read_excel('Data/Demo.xlsx',sheet_name='Sheet2')\n",
    "df5 = pd.DataFrame({'C1' : [1, 1, 1], 'C2' : [2, 2, 2], 'C3' : [3, 3, 3]})\n",
    "df5.to_excel('Data/new.xlsx', sheet_name='a')"
   ]
  },
  {
   "cell_type": "markdown",
   "metadata": {},
   "source": [
    "# Statistics"
   ]
  },
  {
   "cell_type": "code",
   "execution_count": 31,
   "metadata": {},
   "outputs": [
    {
     "data": {
      "text/plain": [
       "<matplotlib.collections.PathCollection at 0x25409ee82b0>"
      ]
     },
     "execution_count": 31,
     "metadata": {},
     "output_type": "execute_result"
    },
    {
     "data": {
      "image/png": "[encoded data removed]",
      "text/plain": [
       "<Figure size 432x288 with 1 Axes>"
      ]
     },
     "metadata": {
      "needs_background": "light"
     },
     "output_type": "display_data"
    }
   ],
   "source": [
    "# Covariance is applied on series data.\n",
    "# The Series object has a method cov() to compute covariance between series objects.\n",
    "# NA will be excluded automatically.\n",
    "# from numpy.random import randn\n",
    "# np.random.seed(101)\n",
    "# s1 = pd.Series(randn(10))\n",
    "# np.random.seed(101)\n",
    "# # s2 = pd.Series(randn(10))\n",
    "# s2 = pd.Series(randn(10)*(-1))\n",
    "s1 = pd.Series([-5,-2.5,0,2.5,5])\n",
    "s2 = pd.Series([5,-5,5,-5,5])\n",
    "import matplotlib.pyplot as plt\n",
    "plt.scatter(s1,s2)"
   ]
  },
  {
   "cell_type": "code",
   "execution_count": 32,
   "metadata": {},
   "outputs": [
    {
     "name": "stdout",
     "output_type": "stream",
     "text": [
      "0.0\n"
     ]
    }
   ],
   "source": [
    "print(s1.cov(s2))"
   ]
  },
  {
   "cell_type": "code",
   "execution_count": 33,
   "metadata": {},
   "outputs": [
    {
     "data": {
      "text/plain": [
       "<matplotlib.collections.PathCollection at 0x2540af99fd0>"
      ]
     },
     "execution_count": 33,
     "metadata": {},
     "output_type": "execute_result"
    },
    {
     "data": {
      "image/png": "[encoded data removed]",
      "text/plain": [
       "<Figure size 432x288 with 1 Axes>"
      ]
     },
     "metadata": {
      "needs_background": "light"
     },
     "output_type": "display_data"
    }
   ],
   "source": [
    "# Correlation shows the linear relationship between any two array of values,\n",
    "# available in series. \n",
    "# There are multiple methods to compute the correlation \n",
    "        # like pearson(default), spearman and kendall.\n",
    "# from numpy.random import randn\n",
    "# np.random.seed(101)\n",
    "# s1 = pd.Series(randn(10))\n",
    "# np.random.seed(101)\n",
    "# # s2 = pd.Series(randn(10))\n",
    "# s2 = pd.Series(randn(10)*(-1))\n",
    "s1 = pd.Series([-5,-2.5,0,2.5,5])\n",
    "s2 = pd.Series([5,-5,5,-5,5])\n",
    "import matplotlib.pyplot as plt\n",
    "plt.scatter(s1,s2)"
   ]
  },
  {
   "cell_type": "code",
   "execution_count": 34,
   "metadata": {},
   "outputs": [
    {
     "name": "stdout",
     "output_type": "stream",
     "text": [
      "0.0\n"
     ]
    }
   ],
   "source": [
    "print(s1.corr(s2))"
   ]
  },
  {
   "cell_type": "code",
   "execution_count": 36,
   "metadata": {},
   "outputs": [
    {
     "name": "stdout",
     "output_type": "stream",
     "text": [
      "6 \t 2.0\n",
      "8 \t 4.0\n",
      "7 \t 3.0\n",
      "9 \t 5.0\n",
      "5 \t 1.0\n"
     ]
    }
   ],
   "source": [
    "# Data Ranking\n",
    "s = pd.Series([6,8,7,9,5], index=list('abcde'))\n",
    "# s['a'] = s['d'] # so there's a tie\n",
    "for i in range(5):\n",
    "     print(s[i],'\\t', s.rank()[i])"
   ]
  }
 ],
 "metadata": {
  "kernelspec": {
   "display_name": "Python 3",
   "language": "python",
   "name": "python3"
  },
  "language_info": {
   "codemirror_mode": {
    "name": "ipython",
    "version": 3
   },
   "file_extension": ".py",
   "mimetype": "text/x-python",
   "name": "python",
   "nbconvert_exporter": "python",
   "pygments_lexer": "ipython3",
   "version": "3.6.10"
  }
 },
 "nbformat": 4,
 "nbformat_minor": 4
}
