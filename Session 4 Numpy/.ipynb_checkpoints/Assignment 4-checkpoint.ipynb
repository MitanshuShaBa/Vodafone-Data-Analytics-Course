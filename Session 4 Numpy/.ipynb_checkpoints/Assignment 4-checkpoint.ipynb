{
 "cells": [
  {
   "cell_type": "code",
   "execution_count": 1,
   "metadata": {},
   "outputs": [],
   "source": [
    "import numpy as np\n",
    "import pandas as pd"
   ]
  },
  {
   "cell_type": "markdown",
   "metadata": {},
   "source": [
    "# Student Data"
   ]
  },
  {
   "cell_type": "code",
   "execution_count": 2,
   "metadata": {},
   "outputs": [
    {
     "data": {
      "text/html": [
       "<div>\n",
       "<style scoped>\n",
       "    .dataframe tbody tr th:only-of-type {\n",
       "        vertical-align: middle;\n",
       "    }\n",
       "\n",
       "    .dataframe tbody tr th {\n",
       "        vertical-align: top;\n",
       "    }\n",
       "\n",
       "    .dataframe thead th {\n",
       "        text-align: right;\n",
       "    }\n",
       "</style>\n",
       "<table border=\"1\" class=\"dataframe\">\n",
       "  <thead>\n",
       "    <tr style=\"text-align: right;\">\n",
       "      <th></th>\n",
       "      <th>subA</th>\n",
       "      <th>subB</th>\n",
       "      <th>subC</th>\n",
       "      <th>subD</th>\n",
       "      <th>subE</th>\n",
       "    </tr>\n",
       "    <tr>\n",
       "      <th>Name</th>\n",
       "      <th></th>\n",
       "      <th></th>\n",
       "      <th></th>\n",
       "      <th></th>\n",
       "      <th></th>\n",
       "    </tr>\n",
       "  </thead>\n",
       "  <tbody>\n",
       "    <tr>\n",
       "      <th>Praveen</th>\n",
       "      <td>55</td>\n",
       "      <td>80</td>\n",
       "      <td>12</td>\n",
       "      <td>55</td>\n",
       "      <td>88</td>\n",
       "    </tr>\n",
       "    <tr>\n",
       "      <th>Vidhya</th>\n",
       "      <td>98</td>\n",
       "      <td>95</td>\n",
       "      <td>94</td>\n",
       "      <td>95</td>\n",
       "      <td>99</td>\n",
       "    </tr>\n",
       "    <tr>\n",
       "      <th>Dravis</th>\n",
       "      <td>8</td>\n",
       "      <td>18</td>\n",
       "      <td>5</td>\n",
       "      <td>12</td>\n",
       "      <td>15</td>\n",
       "    </tr>\n",
       "    <tr>\n",
       "      <th>Dennis</th>\n",
       "      <td>52</td>\n",
       "      <td>46</td>\n",
       "      <td>89</td>\n",
       "      <td>89</td>\n",
       "      <td>99</td>\n",
       "    </tr>\n",
       "    <tr>\n",
       "      <th>Sunder</th>\n",
       "      <td>99</td>\n",
       "      <td>100</td>\n",
       "      <td>85</td>\n",
       "      <td>100</td>\n",
       "      <td>99</td>\n",
       "    </tr>\n",
       "    <tr>\n",
       "      <th>Bharati</th>\n",
       "      <td>87</td>\n",
       "      <td>44</td>\n",
       "      <td>55</td>\n",
       "      <td>78</td>\n",
       "      <td>88</td>\n",
       "    </tr>\n",
       "  </tbody>\n",
       "</table>\n",
       "</div>"
      ],
      "text/plain": [
       "         subA  subB  subC  subD  subE\n",
       "Name                                 \n",
       "Praveen    55    80    12    55    88\n",
       "Vidhya     98    95    94    95    99\n",
       "Dravis      8    18     5    12    15\n",
       "Dennis     52    46    89    89    99\n",
       "Sunder     99   100    85   100    99\n",
       "Bharati    87    44    55    78    88"
      ]
     },
     "execution_count": 2,
     "metadata": {},
     "output_type": "execute_result"
    }
   ],
   "source": [
    "# 0. Student Dataset\n",
    "student_data = pd.DataFrame({\"Name\":[\"Praveen\",\"Vidhya\",\"Dravis\",\"Dennis\",\"Sunder\",\"Bharati\"],\n",
    "                            \"subA\":[55,98,8,52,99,87],\n",
    "                            \"subB\":[80,95,18,46,100,44],\n",
    "                            \"subC\":[12,94,5,89,85,55],\n",
    "                            \"subD\":[55,95,12,89,100,78],\n",
    "                            \"subE\":[88,99,15,99,99,88]}\n",
    "                           )\n",
    "student_data.set_index('Name',inplace=True)\n",
    "student_data"
   ]
  },
  {
   "cell_type": "code",
   "execution_count": 3,
   "metadata": {},
   "outputs": [],
   "source": [
    "names = [\"Praveen\",\"Vidhya\",\"Dravis\",\"Dennis\",\"Sunder\",\"Bharati\"]"
   ]
  },
  {
   "cell_type": "code",
   "execution_count": 4,
   "metadata": {},
   "outputs": [
    {
     "data": {
      "text/plain": [
       "array([[ 55,  80,  12,  55,  88],\n",
       "       [ 98,  95,  94,  95,  99],\n",
       "       [  8,  18,   5,  12,  15],\n",
       "       [ 52,  46,  89,  89,  99],\n",
       "       [ 99, 100,  85, 100,  99],\n",
       "       [ 87,  44,  55,  78,  88]], dtype=int64)"
      ]
     },
     "execution_count": 4,
     "metadata": {},
     "output_type": "execute_result"
    }
   ],
   "source": [
    "students = student_data.values\n",
    "students"
   ]
  },
  {
   "cell_type": "code",
   "execution_count": 5,
   "metadata": {},
   "outputs": [
    {
     "name": "stdout",
     "output_type": "stream",
     "text": [
      "Vidhya got 94\n"
     ]
    }
   ],
   "source": [
    "# 1. Maximum marks scored in subC\n",
    "maxC = students.argmax(axis=0)[2]\n",
    "print(f\"{names[maxC]} got {students[maxC][2]}\")"
   ]
  },
  {
   "cell_type": "code",
   "execution_count": 6,
   "metadata": {},
   "outputs": [
    {
     "name": "stdout",
     "output_type": "stream",
     "text": [
      "Mean of subE is 81.33333333333333\n"
     ]
    }
   ],
   "source": [
    "# 2. Average marks in subE\n",
    "meanE = students.mean(axis=0)[4]\n",
    "print(f\"Mean of subE is {meanE}\")"
   ]
  },
  {
   "cell_type": "code",
   "execution_count": 7,
   "metadata": {},
   "outputs": [
    {
     "name": "stdout",
     "output_type": "stream",
     "text": [
      "Average marks scored by Dennis is 75.0\n"
     ]
    }
   ],
   "source": [
    "# 3. Average marks scored by Dennis\n",
    "avgDennis = students[3].mean()\n",
    "print(f'Average marks scored by Dennis is {avgDennis}')"
   ]
  },
  {
   "cell_type": "code",
   "execution_count": 8,
   "metadata": {},
   "outputs": [
    {
     "name": "stdout",
     "output_type": "stream",
     "text": [
      "Topper is Sunder with 483 marks\n"
     ]
    }
   ],
   "source": [
    "# 4. Topper of class\n",
    "total_of_students = students.sum(axis=1)\n",
    "topper = names[total_of_students.argmax()]\n",
    "topper_marks = total_of_students.max()\n",
    "print(f\"Topper is {topper} with {topper_marks} marks\")"
   ]
  },
  {
   "cell_type": "code",
   "execution_count": 9,
   "metadata": {},
   "outputs": [
    {
     "name": "stdout",
     "output_type": "stream",
     "text": [
      "Sunder got 100\n"
     ]
    }
   ],
   "source": [
    "# 5. Person who scored maximum marks in Sub B\n",
    "maxC = students.argmax(axis=0)[1]\n",
    "print(f\"{names[maxC]} got {students[maxC][1]}\")"
   ]
  },
  {
   "cell_type": "markdown",
   "metadata": {},
   "source": [
    "# Question 2"
   ]
  },
  {
   "cell_type": "code",
   "execution_count": 10,
   "metadata": {},
   "outputs": [
    {
     "data": {
      "text/plain": [
       "array([[ 0,  1,  2,  3,  4,  5],\n",
       "       [10, 11, 12, 13, 14, 15],\n",
       "       [20, 21, 22, 23, 24, 25],\n",
       "       [30, 31, 32, 33, 34, 35],\n",
       "       [40, 41, 42, 43, 44, 45],\n",
       "       [50, 51, 52, 53, 54, 55]])"
      ]
     },
     "execution_count": 10,
     "metadata": {},
     "output_type": "execute_result"
    }
   ],
   "source": [
    "# 1. Create Sample array\n",
    "sample_array = np.array([0,1,2,3,4,5]) + np.array([[0],\n",
    "                                                  [10],\n",
    "                                                  [20],\n",
    "                                                  [30],\n",
    "                                                  [40],\n",
    "                                                  [50]])\n",
    "sample_array"
   ]
  },
  {
   "cell_type": "code",
   "execution_count": 11,
   "metadata": {},
   "outputs": [
    {
     "data": {
      "text/plain": [
       "array([ 2, 12, 22, 32, 42, 52])"
      ]
     },
     "execution_count": 11,
     "metadata": {},
     "output_type": "execute_result"
    }
   ],
   "source": [
    "# 2. Extract 3rd column \n",
    "sample_array[:,2]"
   ]
  },
  {
   "cell_type": "code",
   "execution_count": 12,
   "metadata": {},
   "outputs": [
    {
     "data": {
      "text/plain": [
       "array([3, 4])"
      ]
     },
     "execution_count": 12,
     "metadata": {},
     "output_type": "execute_result"
    }
   ],
   "source": [
    "# 3. Extract [3,4]\n",
    "sample_array[0][3:5]"
   ]
  },
  {
   "cell_type": "code",
   "execution_count": 13,
   "metadata": {},
   "outputs": [
    {
     "data": {
      "text/plain": [
       "array([20, 22, 24, 40, 42, 44])"
      ]
     },
     "execution_count": 13,
     "metadata": {},
     "output_type": "execute_result"
    }
   ],
   "source": [
    "# 4. Extract [20,22,24,40,42,44]\n",
    "sample_array[2::2,0::2].reshape(6,)"
   ]
  },
  {
   "cell_type": "code",
   "execution_count": 14,
   "metadata": {},
   "outputs": [
    {
     "data": {
      "text/plain": [
       "array([44, 45, 54, 55])"
      ]
     },
     "execution_count": 14,
     "metadata": {},
     "output_type": "execute_result"
    }
   ],
   "source": [
    "# 5. Extract [44,45,54,55]\n",
    "sample_array[-2:,-2:].reshape(4,)"
   ]
  },
  {
   "cell_type": "markdown",
   "metadata": {},
   "source": [
    "# Question 3 "
   ]
  },
  {
   "cell_type": "markdown",
   "metadata": {},
   "source": [
    "### Create an array"
   ]
  },
  {
   "cell_type": "code",
   "execution_count": 15,
   "metadata": {},
   "outputs": [
    {
     "data": {
      "text/plain": [
       "array([[100, 100, 100, 100, 100],\n",
       "       [100,  50,  50,  50, 100],\n",
       "       [100,  50,   0,  50, 100],\n",
       "       [100,  50,  50,  50, 100],\n",
       "       [100, 100, 100, 100, 100]])"
      ]
     },
     "execution_count": 15,
     "metadata": {},
     "output_type": "execute_result"
    }
   ],
   "source": [
    "base = np.zeros((5,5),dtype='int')\n",
    "base.fill(100)\n",
    "base[1:4,1:4].fill(50)\n",
    "base[2,2] = 0\n",
    "base"
   ]
  }
 ],
 "metadata": {
  "kernelspec": {
   "display_name": "Python 3",
   "language": "python",
   "name": "python3"
  },
  "language_info": {
   "codemirror_mode": {
    "name": "ipython",
    "version": 3
   },
   "file_extension": ".py",
   "mimetype": "text/x-python",
   "name": "python",
   "nbconvert_exporter": "python",
   "pygments_lexer": "ipython3",
   "version": "3.6.10"
  }
 },
 "nbformat": 4,
 "nbformat_minor": 4
}
